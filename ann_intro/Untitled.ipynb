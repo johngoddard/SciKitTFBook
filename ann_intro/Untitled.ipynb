{
 "cells": [
  {
   "cell_type": "code",
   "execution_count": 1,
   "metadata": {
    "collapsed": true
   },
   "outputs": [],
   "source": [
    "import tensorflow as tf\n",
    "\n",
    "n_inputs = 28*28 # MNIST\n",
    "n_hidden1 = 300\n",
    "n_hidden2 = 100\n",
    "n_outputs = 10"
   ]
  },
  {
   "cell_type": "code",
   "execution_count": 2,
   "metadata": {
    "collapsed": true
   },
   "outputs": [],
   "source": [
    "X = tf.placeholder(tf.float32, shape=(None, n_inputs), name='X')\n",
    "y = tf.placeholder(tf.int64, shape=(None), name='y')"
   ]
  },
  {
   "cell_type": "code",
   "execution_count": 10,
   "metadata": {},
   "outputs": [],
   "source": [
    "import numpy as np\n",
    "\n",
    "def neuron_layer(X, n_nuerons, name, activation=None):\n",
    "    with tf.name_scope(name):\n",
    "        n_inputs = int(X.get_shape()[1])\n",
    "        stddev = 2 / np.sqrt(n_inputs)\n",
    "        init = tf.truncated_normal((n_inputs, n_nuerons), stddev=stddev)\n",
    "        W = tf.Variable(init, name ='kernel')\n",
    "        b = tf.Variable(tf.zeros([n_nuerons]), name='bias')\n",
    "        Z = tf.matmul(X, W) + b\n",
    "        if activation is not None:\n",
    "            return activation(Z)\n",
    "        else:\n",
    "            return Z"
   ]
  },
  {
   "cell_type": "code",
   "execution_count": 11,
   "metadata": {},
   "outputs": [],
   "source": [
    "with tf.name_scope('dnn'):\n",
    "    hidden1 = neuron_layer(X, n_hidden1, name='hidden1', activation=tf.nn.relu)\n",
    "    hidden2 = neuron_layer(hidden1, n_hidden2, name='hidden2', activation=tf.nn.relu)\n",
    "    logits = neuron_layer(hidden2, n_outputs, name='outpus')"
   ]
  },
  {
   "cell_type": "code",
   "execution_count": 3,
   "metadata": {},
   "outputs": [],
   "source": [
    "# using built in tf\n",
    "\n",
    "with tf.name_scope('dnn'):\n",
    "    hidden1 = tf.layers.dense(X, n_hidden1, name='hidden1', activation=tf.nn.relu)\n",
    "    hidden2 = tf.layers.dense(hidden1, n_hidden2, name='hidden2', activation=tf.nn.relu)\n",
    "    logits = tf.layers.dense(hidden2, n_outputs, name='outputs')"
   ]
  },
  {
   "cell_type": "code",
   "execution_count": 4,
   "metadata": {},
   "outputs": [],
   "source": [
    "with tf.name_scope('loss'):\n",
    "    xentropy = tf.nn.sparse_softmax_cross_entropy_with_logits(labels=y, logits=logits)\n",
    "    loss = tf.reduce_mean(xentropy, name='loss')"
   ]
  },
  {
   "cell_type": "code",
   "execution_count": 5,
   "metadata": {
    "collapsed": true
   },
   "outputs": [],
   "source": [
    "learning_rate = 0.01\n",
    "\n",
    "with tf.name_scope('train'):\n",
    "    optimizer = tf.train.GradientDescentOptimizer(learning_rate)\n",
    "    training_op = optimizer.minimize(loss)\n",
    "    "
   ]
  },
  {
   "cell_type": "code",
   "execution_count": 6,
   "metadata": {
    "collapsed": true
   },
   "outputs": [],
   "source": [
    "with tf.name_scope('eval'):\n",
    "    correct = tf.nn.in_top_k(logits, y, 1)\n",
    "    accuracy = tf.reduce_mean(tf.cast(correct, tf.float32))"
   ]
  },
  {
   "cell_type": "code",
   "execution_count": 7,
   "metadata": {
    "collapsed": true
   },
   "outputs": [],
   "source": [
    "init = tf.global_variables_initializer()\n",
    "saver = tf.train.Saver()"
   ]
  },
  {
   "cell_type": "code",
   "execution_count": 9,
   "metadata": {},
   "outputs": [
    {
     "name": "stdout",
     "output_type": "stream",
     "text": [
      "Successfully downloaded train-images-idx3-ubyte.gz 9912422 bytes.\n",
      "Extracting /tmp/data/train-images-idx3-ubyte.gz\n",
      "Successfully downloaded train-labels-idx1-ubyte.gz 28881 bytes.\n",
      "Extracting /tmp/data/train-labels-idx1-ubyte.gz\n",
      "Successfully downloaded t10k-images-idx3-ubyte.gz 1648877 bytes.\n",
      "Extracting /tmp/data/t10k-images-idx3-ubyte.gz\n",
      "Successfully downloaded t10k-labels-idx1-ubyte.gz 4542 bytes.\n",
      "Extracting /tmp/data/t10k-labels-idx1-ubyte.gz\n"
     ]
    }
   ],
   "source": [
    "from tensorflow.examples.tutorials.mnist import input_data\n",
    "mnist= input_data.read_data_sets(\"/tmp/data/\")"
   ]
  },
  {
   "cell_type": "code",
   "execution_count": 10,
   "metadata": {
    "collapsed": true
   },
   "outputs": [],
   "source": [
    "n_epochs = 40\n",
    "batch_size = 50"
   ]
  },
  {
   "cell_type": "code",
   "execution_count": 14,
   "metadata": {},
   "outputs": [
    {
     "name": "stdout",
     "output_type": "stream",
     "text": [
      "0 Train accuracy: 0.94 Test accuracy: 0.901\n",
      "1 Train accuracy: 0.92 Test accuracy: 0.9205\n",
      "2 Train accuracy: 0.88 Test accuracy: 0.9287\n",
      "3 Train accuracy: 0.98 Test accuracy: 0.9376\n",
      "4 Train accuracy: 0.94 Test accuracy: 0.9427\n",
      "5 Train accuracy: 0.96 Test accuracy: 0.9461\n",
      "6 Train accuracy: 0.94 Test accuracy: 0.9501\n",
      "7 Train accuracy: 0.96 Test accuracy: 0.9502\n",
      "8 Train accuracy: 0.94 Test accuracy: 0.9539\n",
      "9 Train accuracy: 0.92 Test accuracy: 0.9575\n",
      "10 Train accuracy: 0.98 Test accuracy: 0.9594\n",
      "11 Train accuracy: 0.96 Test accuracy: 0.9608\n",
      "12 Train accuracy: 1.0 Test accuracy: 0.9617\n",
      "13 Train accuracy: 0.98 Test accuracy: 0.9635\n",
      "14 Train accuracy: 0.96 Test accuracy: 0.9638\n",
      "15 Train accuracy: 0.98 Test accuracy: 0.9649\n",
      "16 Train accuracy: 0.98 Test accuracy: 0.9676\n",
      "17 Train accuracy: 0.94 Test accuracy: 0.9688\n",
      "18 Train accuracy: 1.0 Test accuracy: 0.969\n",
      "19 Train accuracy: 0.94 Test accuracy: 0.9699\n",
      "20 Train accuracy: 0.98 Test accuracy: 0.9686\n",
      "21 Train accuracy: 1.0 Test accuracy: 0.9706\n",
      "22 Train accuracy: 0.98 Test accuracy: 0.9721\n",
      "23 Train accuracy: 1.0 Test accuracy: 0.9713\n",
      "24 Train accuracy: 0.96 Test accuracy: 0.9706\n",
      "25 Train accuracy: 1.0 Test accuracy: 0.9721\n",
      "26 Train accuracy: 0.98 Test accuracy: 0.9717\n",
      "27 Train accuracy: 1.0 Test accuracy: 0.9724\n",
      "28 Train accuracy: 1.0 Test accuracy: 0.9728\n",
      "29 Train accuracy: 1.0 Test accuracy: 0.9731\n",
      "30 Train accuracy: 1.0 Test accuracy: 0.9737\n",
      "31 Train accuracy: 0.98 Test accuracy: 0.9733\n",
      "32 Train accuracy: 0.98 Test accuracy: 0.9732\n",
      "33 Train accuracy: 1.0 Test accuracy: 0.9748\n",
      "34 Train accuracy: 0.98 Test accuracy: 0.9757\n",
      "35 Train accuracy: 1.0 Test accuracy: 0.975\n",
      "36 Train accuracy: 0.96 Test accuracy: 0.9744\n",
      "37 Train accuracy: 1.0 Test accuracy: 0.9754\n",
      "38 Train accuracy: 1.0 Test accuracy: 0.9753\n",
      "39 Train accuracy: 0.98 Test accuracy: 0.9758\n"
     ]
    }
   ],
   "source": [
    "with tf.Session() as sess:\n",
    "    init.run()\n",
    "    for epoch in range(n_epochs):\n",
    "        for iteration in range(mnist.train.num_examples // batch_size):\n",
    "            X_batch, y_batch = mnist.train.next_batch(batch_size)\n",
    "            sess.run(training_op, feed_dict={X: X_batch, y: y_batch})\n",
    "        acc_train = accuracy.eval(feed_dict={ X: X_batch, y: y_batch})\n",
    "        acc_test = accuracy.eval(feed_dict={ X: mnist.test.images, y: mnist.test.labels })\n",
    "        \n",
    "        print(epoch, \"Train accuracy:\", acc_train, \"Test accuracy:\", acc_test)\n",
    "    \n",
    "    save_path = saver.save(sess, \"./my_model_final.ckpt\")"
   ]
  },
  {
   "cell_type": "code",
   "execution_count": null,
   "metadata": {
    "collapsed": true
   },
   "outputs": [],
   "source": [
    "with tf.Session() as sess: \n",
    "    saver.restore(sess, './my_model_final.ckpt')\n",
    "    X_new_scaled = "
   ]
  }
 ],
 "metadata": {
  "kernelspec": {
   "display_name": "Python 3",
   "language": "python",
   "name": "python3"
  },
  "language_info": {
   "codemirror_mode": {
    "name": "ipython",
    "version": 3
   },
   "file_extension": ".py",
   "mimetype": "text/x-python",
   "name": "python",
   "nbconvert_exporter": "python",
   "pygments_lexer": "ipython3",
   "version": "3.6.1"
  }
 },
 "nbformat": 4,
 "nbformat_minor": 2
}
