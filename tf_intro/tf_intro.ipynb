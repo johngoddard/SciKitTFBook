{
 "cells": [
  {
   "cell_type": "code",
   "execution_count": 1,
   "metadata": {
    "collapsed": true
   },
   "outputs": [],
   "source": [
    "import tensorflow as tf\n",
    "\n",
    "x = tf.Variable(3, name='x')\n",
    "y = tf.Variable(4, name='y')\n",
    "\n",
    "f = x*x*y + y + 2"
   ]
  },
  {
   "cell_type": "code",
   "execution_count": 2,
   "metadata": {},
   "outputs": [
    {
     "name": "stdout",
     "output_type": "stream",
     "text": [
      "42\n"
     ]
    }
   ],
   "source": [
    "sess = tf.Session()\n",
    "sess.run(x.initializer)\n",
    "sess.run(y.initializer)\n",
    "\n",
    "result = sess.run(f)\n",
    "print(result)"
   ]
  },
  {
   "cell_type": "code",
   "execution_count": 3,
   "metadata": {
    "collapsed": true
   },
   "outputs": [],
   "source": [
    "sess.close()"
   ]
  },
  {
   "cell_type": "code",
   "execution_count": 4,
   "metadata": {
    "collapsed": true
   },
   "outputs": [],
   "source": [
    "with tf.Session() as sess: \n",
    "    x.initializer.run()\n",
    "    y.initializer.run()\n",
    "    result = f.eval()"
   ]
  },
  {
   "cell_type": "code",
   "execution_count": 5,
   "metadata": {},
   "outputs": [
    {
     "name": "stdout",
     "output_type": "stream",
     "text": [
      "42\n"
     ]
    }
   ],
   "source": [
    "print(result)"
   ]
  },
  {
   "cell_type": "code",
   "execution_count": 6,
   "metadata": {},
   "outputs": [
    {
     "name": "stdout",
     "output_type": "stream",
     "text": [
      "42\n"
     ]
    }
   ],
   "source": [
    "init = tf.global_variables_initializer()\n",
    "\n",
    "with tf.Session() as sess:\n",
    "    init.run()\n",
    "    result = f.eval()\n",
    "    \n",
    "print(result)"
   ]
  },
  {
   "cell_type": "code",
   "execution_count": 7,
   "metadata": {},
   "outputs": [
    {
     "name": "stdout",
     "output_type": "stream",
     "text": [
      "42\n"
     ]
    }
   ],
   "source": [
    "sess = tf.InteractiveSession()\n",
    "init.run()\n",
    "result = f.eval()\n",
    "\n",
    "print(result)\n",
    "sess.close()"
   ]
  },
  {
   "cell_type": "code",
   "execution_count": 8,
   "metadata": {},
   "outputs": [
    {
     "data": {
      "text/plain": [
       "True"
      ]
     },
     "execution_count": 8,
     "metadata": {},
     "output_type": "execute_result"
    }
   ],
   "source": [
    "x1 = tf.Variable(1)\n",
    "x1.graph is tf.get_default_graph()"
   ]
  },
  {
   "cell_type": "code",
   "execution_count": 9,
   "metadata": {},
   "outputs": [
    {
     "data": {
      "text/plain": [
       "True"
      ]
     },
     "execution_count": 9,
     "metadata": {},
     "output_type": "execute_result"
    }
   ],
   "source": [
    "graph = tf.Graph()\n",
    "\n",
    "with graph.as_default():\n",
    "    x2 = tf.Variable(2)\n",
    "\n",
    "x2.graph is graph"
   ]
  },
  {
   "cell_type": "code",
   "execution_count": 10,
   "metadata": {},
   "outputs": [
    {
     "data": {
      "text/plain": [
       "False"
      ]
     },
     "execution_count": 10,
     "metadata": {},
     "output_type": "execute_result"
    }
   ],
   "source": [
    "x2.graph is tf.get_default_graph()"
   ]
  },
  {
   "cell_type": "code",
   "execution_count": 11,
   "metadata": {},
   "outputs": [
    {
     "name": "stdout",
     "output_type": "stream",
     "text": [
      "10\n",
      "15\n"
     ]
    }
   ],
   "source": [
    "w = tf.constant(3)\n",
    "x = w + 2\n",
    "y = x + 5\n",
    "z = x * 3\n",
    "\n",
    "with tf.Session() as sess:\n",
    "    print(y.eval())\n",
    "    print(z.eval())"
   ]
  },
  {
   "cell_type": "code",
   "execution_count": 12,
   "metadata": {},
   "outputs": [
    {
     "name": "stdout",
     "output_type": "stream",
     "text": [
      "10\n",
      "15\n"
     ]
    }
   ],
   "source": [
    "with tf.Session() as sess:\n",
    "    y_val, z_val = sess.run([y, z])\n",
    "    print(y_val)\n",
    "    print(z_val)"
   ]
  },
  {
   "cell_type": "code",
   "execution_count": 13,
   "metadata": {},
   "outputs": [
    {
     "name": "stdout",
     "output_type": "stream",
     "text": [
      "[[ -3.74651413e+01]\n",
      " [  4.35734153e-01]\n",
      " [  9.33829229e-03]\n",
      " [ -1.06622010e-01]\n",
      " [  6.44106984e-01]\n",
      " [ -4.25131839e-06]\n",
      " [ -3.77322501e-03]\n",
      " [ -4.26648885e-01]\n",
      " [ -4.40514028e-01]]\n"
     ]
    }
   ],
   "source": [
    "# linear regression via normal equation\n",
    "import numpy as np\n",
    "from sklearn.datasets import fetch_california_housing\n",
    "\n",
    "housing = fetch_california_housing()\n",
    "m, n = housing.data.shape\n",
    "housing_data_plus_bias = np.c_[np.ones((m, 1)), housing.data]\n",
    "\n",
    "X = tf.constant(housing_data_plus_bias, dtype=tf.float32, name='X')\n",
    "y = tf.constant(housing.target.reshape(-1, 1), dtype=tf.float32, name='y')\n",
    "XT = tf.transpose(X)\n",
    "theta = tf.matmul(tf.matmul(tf.matrix_inverse(tf.matmul(XT, X)), XT), y)\n",
    "\n",
    "with tf.Session() as sess:\n",
    "    theta_value = theta.eval()\n",
    "\n",
    "print(theta_value)"
   ]
  },
  {
   "cell_type": "code",
   "execution_count": 14,
   "metadata": {},
   "outputs": [
    {
     "name": "stdout",
     "output_type": "stream",
     "text": [
      "Epoch 0 MSE = 5.7111\n",
      "Epoch 100 MSE = 0.645484\n",
      "Epoch 200 MSE = 0.577376\n",
      "Epoch 300 MSE = 0.564108\n",
      "Epoch 400 MSE = 0.554846\n",
      "Epoch 500 MSE = 0.547876\n",
      "Epoch 600 MSE = 0.542593\n",
      "Epoch 700 MSE = 0.538568\n",
      "Epoch 800 MSE = 0.535486\n",
      "Epoch 900 MSE = 0.533116\n",
      "[[ 2.06855369]\n",
      " [ 0.87773645]\n",
      " [ 0.14678799]\n",
      " [-0.32087246]\n",
      " [ 0.33582199]\n",
      " [ 0.00507181]\n",
      " [-0.04272393]\n",
      " [-0.65032727]\n",
      " [-0.62486237]]\n"
     ]
    }
   ],
   "source": [
    "from sklearn.preprocessing import StandardScaler\n",
    "scaler = StandardScaler()\n",
    "housing_data_scaled = scaler.fit_transform(housing.data.astype(np.float32))\n",
    "housing_data_scaled_plus_bias = np.c_[np.ones((m, 1)), housing_data_scaled]\n",
    "\n",
    "# Linear reg via gradient descent\n",
    "n_epochs = 1000\n",
    "learning_rate = 0.01\n",
    "\n",
    "X = tf.constant(housing_data_scaled_plus_bias, dtype=tf.float32, name='X')\n",
    "y = tf.constant(housing.target.reshape(-1, 1), dtype=tf.float32, name='y')\n",
    "theta = tf.Variable(tf.random_uniform([n + 1, 1], -1.0, 1.0))\n",
    "y_pred = tf.matmul(X, theta, name='predictions')\n",
    "error = y_pred - y\n",
    "mse = tf.reduce_mean(tf.square(error), name='mse')\n",
    "gradients = 2/m * tf.matmul(tf.transpose(X), error)\n",
    "training_op = tf.assign(theta, theta - learning_rate * gradients)\n",
    "\n",
    "init = tf.global_variables_initializer()\n",
    "\n",
    "with tf.Session() as sess:\n",
    "    sess.run(init)\n",
    "    \n",
    "    for epoch in range(n_epochs):\n",
    "        if epoch % 100 == 0:\n",
    "            print('Epoch', epoch, 'MSE =', mse.eval())\n",
    "        sess.run(training_op)\n",
    "    \n",
    "    best_theta = theta.eval()\n",
    "    print(best_theta)\n"
   ]
  },
  {
   "cell_type": "code",
   "execution_count": 15,
   "metadata": {},
   "outputs": [
    {
     "name": "stdout",
     "output_type": "stream",
     "text": [
      "Epoch 0 MSE = 12.1629\n",
      "Epoch 100 MSE = 0.842751\n",
      "Epoch 200 MSE = 0.648684\n",
      "Epoch 300 MSE = 0.614975\n",
      "Epoch 400 MSE = 0.592068\n",
      "Epoch 500 MSE = 0.575183\n",
      "Epoch 600 MSE = 0.562672\n",
      "Epoch 700 MSE = 0.55337\n",
      "Epoch 800 MSE = 0.546429\n",
      "Epoch 900 MSE = 0.54123\n",
      "[[ 2.06855345]\n",
      " [ 0.8676033 ]\n",
      " [ 0.15876412]\n",
      " [-0.27577448]\n",
      " [ 0.28711629]\n",
      " [ 0.00956009]\n",
      " [-0.04352097]\n",
      " [-0.57254004]\n",
      " [-0.54464036]]\n"
     ]
    }
   ],
   "source": [
    "# Linear reg via gradient descent with autodiff\n",
    "n_epochs = 1000\n",
    "learning_rate = 0.01\n",
    "\n",
    "X = tf.constant(housing_data_scaled_plus_bias, dtype=tf.float32, name='X')\n",
    "y = tf.constant(housing.target.reshape(-1, 1), dtype=tf.float32, name='y')\n",
    "theta = tf.Variable(tf.random_uniform([n + 1, 1], -1.0, 1.0))\n",
    "y_pred = tf.matmul(X, theta, name='predictions')\n",
    "error = y_pred - y\n",
    "mse = tf.reduce_mean(tf.square(error), name='mse')\n",
    "gradients = tf.gradients(mse, [theta])[0]\n",
    "training_op = tf.assign(theta, theta - learning_rate * gradients)\n",
    "\n",
    "init = tf.global_variables_initializer()\n",
    "\n",
    "with tf.Session() as sess:\n",
    "    sess.run(init)\n",
    "    \n",
    "    for epoch in range(n_epochs): \n",
    "        if epoch % 100 == 0:\n",
    "            print('Epoch', epoch, 'MSE =', mse.eval())\n",
    "        sess.run(training_op)\n",
    "    best_theta = theta.eval()\n",
    "    \n",
    "    print(best_theta)\n",
    "        "
   ]
  },
  {
   "cell_type": "code",
   "execution_count": 16,
   "metadata": {},
   "outputs": [
    {
     "name": "stdout",
     "output_type": "stream",
     "text": [
      "Epoch 0 MSE = 12.1556\n",
      "Epoch 100 MSE = 0.783033\n",
      "Epoch 200 MSE = 0.599959\n",
      "Epoch 300 MSE = 0.580547\n",
      "Epoch 400 MSE = 0.568047\n",
      "Epoch 500 MSE = 0.558545\n",
      "Epoch 600 MSE = 0.551246\n",
      "Epoch 700 MSE = 0.545608\n",
      "Epoch 800 MSE = 0.54123\n",
      "Epoch 900 MSE = 0.537813\n",
      "[[ 2.06855345]\n",
      " [ 0.90010285]\n",
      " [ 0.1525289 ]\n",
      " [-0.36023676]\n",
      " [ 0.36710042]\n",
      " [ 0.00687008]\n",
      " [-0.04368649]\n",
      " [-0.58747631]\n",
      " [-0.5644747 ]]\n"
     ]
    }
   ],
   "source": [
    "# Linear reg via gradient descent with optimizer\n",
    "n_epochs = 1000\n",
    "learning_rate = 0.01\n",
    "\n",
    "X = tf.constant(housing_data_scaled_plus_bias, dtype=tf.float32, name='X')\n",
    "y = tf.constant(housing.target.reshape(-1, 1), dtype=tf.float32, name='y')\n",
    "theta = tf.Variable(tf.random_uniform([n + 1, 1], -1.0, 1.0))\n",
    "y_pred = tf.matmul(X, theta, name='predictions')\n",
    "error = y_pred - y\n",
    "mse = tf.reduce_mean(tf.square(error), name='mse')\n",
    "optimizer = tf.train.GradientDescentOptimizer(learning_rate=learning_rate)\n",
    "training_op = optimizer.minimize(mse)\n",
    "\n",
    "init = tf.global_variables_initializer()\n",
    "\n",
    "with tf.Session() as sess:\n",
    "    sess.run(init)\n",
    "    \n",
    "    for epoch in range(n_epochs): \n",
    "        if epoch % 100 == 0:\n",
    "            print('Epoch', epoch, 'MSE =', mse.eval())\n",
    "        sess.run(training_op)\n",
    "    best_theta = theta.eval()\n",
    "    \n",
    "    print(best_theta)"
   ]
  },
  {
   "cell_type": "code",
   "execution_count": 25,
   "metadata": {},
   "outputs": [
    {
     "name": "stdout",
     "output_type": "stream",
     "text": [
      "Epoch 0 MSE = 11.4892\n",
      "Epoch 100 MSE = 0.526436\n",
      "Epoch 200 MSE = 0.52439\n",
      "Epoch 300 MSE = 0.524327\n",
      "Epoch 400 MSE = 0.524321\n",
      "Epoch 500 MSE = 0.524321\n",
      "Epoch 600 MSE = 0.524321\n",
      "Epoch 700 MSE = 0.524321\n",
      "Epoch 800 MSE = 0.524321\n",
      "Epoch 900 MSE = 0.52432\n",
      "[[ 2.06855989]\n",
      " [ 0.82962185]\n",
      " [ 0.1187521 ]\n",
      " [-0.2655316 ]\n",
      " [ 0.30570012]\n",
      " [-0.00450287]\n",
      " [-0.03932637]\n",
      " [-0.89988011]\n",
      " [-0.87053579]]\n"
     ]
    }
   ],
   "source": [
    "# Linear reg via gradient descent with momentum optimizer\n",
    "n_epochs = 1000\n",
    "learning_rate = 0.01\n",
    "\n",
    "X = tf.constant(housing_data_scaled_plus_bias, dtype=tf.float32, name='X')\n",
    "y = tf.constant(housing.target.reshape(-1, 1), dtype=tf.float32, name='y')\n",
    "theta = tf.Variable(tf.random_uniform([n + 1, 1], -1.0, 1.0))\n",
    "y_pred = tf.matmul(X, theta, name='predictions')\n",
    "error = y_pred - y\n",
    "mse = tf.reduce_mean(tf.square(error), name='mse')\n",
    "optimizer = tf.train.MomentumOptimizer(learning_rate=learning_rate, momentum=0.9)\n",
    "training_op = optimizer.minimize(mse)\n",
    "\n",
    "init = tf.global_variables_initializer()\n",
    "saver = tf.train.Saver()\n",
    "\n",
    "with tf.Session() as sess:\n",
    "    sess.run(init)\n",
    "    \n",
    "    for epoch in range(n_epochs): \n",
    "        if epoch % 100 == 0:\n",
    "            print('Epoch', epoch, 'MSE =', mse.eval())\n",
    "        sess.run(training_op)\n",
    "    best_theta = theta.eval()\n",
    "    save_path = saver.save(sess, '/tmp/my_model.ckpt')\n",
    "    \n",
    "    print(best_theta)"
   ]
  },
  {
   "cell_type": "code",
   "execution_count": 26,
   "metadata": {},
   "outputs": [
    {
     "name": "stdout",
     "output_type": "stream",
     "text": [
      "[[ nan]\n",
      " [ nan]\n",
      " [ nan]\n",
      " [ nan]\n",
      " [ nan]\n",
      " [ nan]\n",
      " [ nan]\n",
      " [ nan]\n",
      " [ nan]]\n"
     ]
    }
   ],
   "source": [
    "# Linear reg via mini batch gradient descent\n",
    "n_epochs = 1000\n",
    "learning_rate = 0.01\n",
    "batch_size = 100\n",
    "n_batches = int(np.ceil(m / batch_size))\n",
    "\n",
    "# use placeholders for the batches\n",
    "X = tf.placeholder(tf.float32, shape=(None, n + 1), name='X')\n",
    "y = tf.placeholder(tf.float32, shape=(None, 1), name='y')\n",
    "\n",
    "def fetch_batch(epoch, batch_index, batch_size):\n",
    "    np.random.seed(epoch * n_batches + batch_index)  \n",
    "    indices = np.random.randint(m, size=batch_size)\n",
    "    X_batch = housing_data_scaled_plus_bias[indices]\n",
    "    y_batch = housing.target.reshape(-1, 1)[indices]\n",
    "    return X_batch, y_batch\n",
    "\n",
    "theta = tf.Variable(tf.random_uniform([n + 1, 1], -1.0, 1.0))\n",
    "y_pred = tf.matmul(X, theta, name='predictions')\n",
    "error = y_pred - y\n",
    "mse = tf.reduce_mean(tf.square(error), name='mse')\n",
    "optimizer = tf.train.MomentumOptimizer(learning_rate=learning_rate, momentum=0.9)\n",
    "training_op = optimizer.minimize(mse)\n",
    "\n",
    "init = tf.global_variables_initializer()\n",
    "\n",
    "with tf.Session() as sess:\n",
    "    sess.run(init)\n",
    "    \n",
    "    for epoch in range(n_epochs): \n",
    "        for batch_index in range(n_batches):\n",
    "            X_batch, y_batch = fetch_batch(epoch, batch_index, batch_size)\n",
    "            sess.run(training_op, feed_dict={X: X_batch, y: y_batch })\n",
    "    best_theta = theta.eval()\n",
    "    \n",
    "    print(best_theta)"
   ]
  },
  {
   "cell_type": "code",
   "execution_count": 23,
   "metadata": {},
   "outputs": [
    {
     "data": {
      "text/plain": [
       "array([61, 60, 32, 25, 36, 59, 79, 65, 88,  9, 72, 48, 52, 61, 58, 32, 42,\n",
       "       71, 84, 71, 30, 49, 96, 93, 80, 96, 58, 41, 83, 86, 60, 56, 67, 47,\n",
       "       83, 65, 13, 98, 97, 60, 20, 16, 81, 65, 26, 64, 56, 43, 99, 46, 28,\n",
       "        4, 16, 32, 38, 35, 13, 31, 21, 51, 44, 81, 29,  7, 39, 85, 32, 51,\n",
       "       21, 21, 50, 53, 55, 42, 60, 20, 48, 65, 81, 50, 58,  7, 65,  6, 60,\n",
       "       58, 99, 78, 56, 77, 57,  6, 95,  8, 30, 68, 59, 79, 48, 29, 59, 23,\n",
       "       59, 83, 30, 39, 13, 70,  0, 45,  7, 76, 10, 46, 88, 82, 95, 68, 35,\n",
       "       77, 62,  1, 28, 66, 20, 17, 89, 60, 44, 89, 23, 53, 41, 86, 54, 59,\n",
       "       95, 84, 61, 80,  9, 71,  8, 14, 62, 87, 10, 74, 81, 47, 25, 35, 16,\n",
       "       30, 91, 61, 74, 28, 94, 91, 15, 71, 77, 43, 86, 49, 40,  0, 88, 89,\n",
       "       68, 74, 71, 17, 72, 73, 32, 79, 71, 54, 86, 25, 51, 45, 15, 98, 36,\n",
       "       43,  0,  3, 41, 90, 14, 50, 80, 97, 70, 41, 42, 11, 44, 83, 49, 73,\n",
       "       99, 12,  8, 44, 74, 68, 76, 46, 97,  0, 68, 58, 19, 74,  6, 17, 60,\n",
       "       76,  2, 34, 92, 23, 62, 69, 25, 63, 78, 59, 92, 33, 94, 88, 83, 56,\n",
       "       38, 30, 31, 47, 12, 55,  7, 56, 15, 36, 65, 75, 44, 33, 88, 31, 69,\n",
       "       96, 36,  0,  5, 56, 75, 69, 12,  7,  4, 65, 56, 48, 15, 48, 65, 80,\n",
       "        1, 29, 70, 56, 36, 98, 88, 73,  9, 41, 73, 18, 52, 10, 93, 85, 51,\n",
       "       86, 11, 45, 93, 91, 88, 47, 58, 34, 60, 15, 49, 83, 44, 47, 62, 38,\n",
       "       51, 26, 42, 84, 10, 54, 19, 36, 64, 43, 72, 74, 14, 35, 28, 54, 89,\n",
       "       47, 62, 54, 71, 11, 49, 87, 15, 65,  2, 99, 93, 78, 53, 82, 24, 13,\n",
       "       36, 64, 35,  5, 29, 50, 29, 76, 32, 74,  0, 65, 13, 75, 24, 41, 90,\n",
       "       44, 32,  1, 30, 55, 40, 54, 82, 12, 79, 33, 31,  2, 17, 27, 71, 91,\n",
       "       48, 64, 90, 64, 78, 15,  6, 90,  2, 10, 12, 34, 34, 67, 94, 71,  8,\n",
       "       80, 69, 10, 55, 79,  2, 53, 18, 53, 93, 93,  4, 64, 17,  1, 83, 81,\n",
       "       83, 16, 90, 57, 96, 21, 55, 79, 97, 22, 29,  5,  3, 60, 48, 23, 19,\n",
       "       61, 45, 23, 56, 71, 27, 40, 57, 98, 24, 86, 20, 25, 97, 95,  6, 20,\n",
       "       74, 99, 25, 32,  4, 93, 76, 78, 93, 57, 36, 37,  0, 72, 12, 69, 73,\n",
       "       82, 69, 45, 25, 13, 86, 18, 34, 98, 90, 88, 74, 57, 73, 35, 24, 63,\n",
       "       54, 41,  0, 90, 33, 14, 82, 48, 43, 76, 62, 31, 28, 71, 72, 70, 21,\n",
       "       91, 22, 39, 21, 73, 40, 37, 99, 31, 53,  2,  7, 46, 18, 92,  9, 34,\n",
       "       57, 42, 38, 13, 21, 98, 73, 84, 27, 93, 42, 91, 40,  9, 98, 29, 58,\n",
       "       98, 79, 85, 90, 87, 33, 83,  0, 60, 59, 16, 52, 39, 83, 46, 67, 29,\n",
       "       56, 82, 67, 47, 94, 21, 80, 98, 55,  3, 30, 77, 94,  0, 36, 35, 34,\n",
       "       36, 26, 82, 64, 92, 23, 86, 43,  3, 29, 20, 35, 77, 22, 55, 92, 18,\n",
       "       86, 88, 25, 71, 93, 21, 57, 84, 77, 34, 62, 85, 95, 25, 59,  0, 31,\n",
       "       57, 69,  8, 90, 31, 64, 93, 96, 74, 34, 87, 76, 33, 86, 68, 53, 22,\n",
       "        7, 44,  3, 73, 16, 83, 30, 45, 13, 29, 63, 49, 60, 33, 62, 23, 98,\n",
       "        0, 78, 78, 13, 86, 92, 67, 50, 98, 69, 61, 29, 39, 34,  4, 94, 51,\n",
       "       79, 21, 86,  7, 66, 15, 60, 77, 81, 77, 99, 58, 45, 44, 43,  5, 90,\n",
       "       91, 67, 15,  8, 75, 46, 59,  6, 42, 45, 21, 98, 53, 11, 13, 70, 34,\n",
       "       26, 89, 77, 62, 84, 45, 92, 26, 18, 39, 74, 18,  9, 81, 63, 73, 57,\n",
       "       21, 75, 89, 41,  1, 98, 90, 99, 24, 23, 49, 75, 79,  3, 44, 42, 33,\n",
       "        3, 56, 69, 35, 28, 88,  1, 66, 28, 41, 20, 60, 23, 59, 31,  5, 12,\n",
       "       47, 81, 40, 74, 66, 50, 12, 74, 11, 45, 99,  8, 67, 76, 38, 13,  9,\n",
       "       84, 48, 67,  7, 10, 68, 63, 79, 12, 97, 37, 41, 52, 79, 26, 19, 98,\n",
       "       33, 98,  7, 51,  6, 30, 19, 61, 48,  2, 51, 91, 83, 56, 95, 68, 17,\n",
       "       54, 56, 49, 35, 26,  8, 11, 28, 55, 26, 77, 65, 28, 79, 57, 33, 96,\n",
       "       92, 52, 66, 49, 92, 19, 76, 63, 10,  5, 81, 64, 96, 51, 89, 55, 67,\n",
       "       27, 73, 55, 72, 68, 11, 90, 71, 18, 39, 25,  0, 95, 15, 48, 41, 50,\n",
       "       69, 24, 97, 41,  2, 88, 94,  3, 51, 87,  1, 93, 88,  2, 12, 21, 61,\n",
       "       78,  3, 71, 88, 37, 94, 75, 67, 73, 86, 92, 13, 39, 68, 87, 59, 54,\n",
       "       86,  4, 88, 45, 13, 90, 78, 43, 24, 66, 57, 34, 84, 56, 16, 79, 35,\n",
       "       20, 39, 89, 15, 25, 77, 55, 90, 47, 99, 30, 46, 31, 21, 71, 55, 92,\n",
       "       33, 32,  3, 52, 48, 38, 84, 91, 56, 35, 63, 68, 22, 54, 20, 68, 39,\n",
       "       39, 66, 37, 38, 27, 80, 25, 49, 19,  6, 70, 51, 89, 59,  8, 56, 32,\n",
       "       42, 12, 65, 23, 27, 62, 52, 64, 23, 41, 96, 99, 51, 88, 77, 94, 60,\n",
       "       72,  1, 41, 57, 33, 65, 45, 16, 55, 80, 77, 82, 34,  6, 82, 72, 73,\n",
       "       12, 43, 56, 29, 60,  1, 39, 52, 55, 48, 45, 79, 81, 35, 40, 82, 14,\n",
       "       78, 17, 44, 48, 29, 77,  7, 79, 10, 87, 23, 44, 12, 55])"
      ]
     },
     "execution_count": 23,
     "metadata": {},
     "output_type": "execute_result"
    }
   ],
   "source": []
  },
  {
   "cell_type": "code",
   "execution_count": 28,
   "metadata": {},
   "outputs": [
    {
     "name": "stdout",
     "output_type": "stream",
     "text": [
      "Epoch 0 MSE = 7.33141\n",
      "Epoch 100 MSE = 0.530471\n",
      "Epoch 200 MSE = 0.524635\n",
      "Epoch 300 MSE = 0.524354\n",
      "Epoch 400 MSE = 0.524325\n",
      "Epoch 500 MSE = 0.524322\n",
      "Epoch 600 MSE = 0.524321\n",
      "Epoch 700 MSE = 0.524321\n",
      "Epoch 800 MSE = 0.52432\n",
      "Epoch 900 MSE = 0.524321\n",
      "[[ 2.06855965]\n",
      " [ 0.82961375]\n",
      " [ 0.11875057]\n",
      " [-0.26551634]\n",
      " [ 0.30568749]\n",
      " [-0.0045033 ]\n",
      " [-0.03932607]\n",
      " [-0.89989847]\n",
      " [-0.87055314]]\n"
     ]
    }
   ],
   "source": [
    "from datetime import datetime\n",
    "\n",
    "now = datetime.utcnow().strftime(\"%Y%m%d%H%M%S\")\n",
    "root_logdir = 'tf_logs'\n",
    "logdir = \"{}/run-{}/\".format(root_logdir, now)\n",
    "\n",
    "n_epochs = 1000\n",
    "learning_rate = 0.01\n",
    "\n",
    "X = tf.constant(housing_data_scaled_plus_bias, dtype=tf.float32, name='X')\n",
    "y = tf.constant(housing.target.reshape(-1, 1), dtype=tf.float32, name='y')\n",
    "theta = tf.Variable(tf.random_uniform([n + 1, 1], -1.0, 1.0))\n",
    "y_pred = tf.matmul(X, theta, name='predictions')\n",
    "error = y_pred - y\n",
    "mse = tf.reduce_mean(tf.square(error), name='mse')\n",
    "optimizer = tf.train.MomentumOptimizer(learning_rate=learning_rate, momentum=0.9)\n",
    "training_op = optimizer.minimize(mse)\n",
    "\n",
    "mse_summary = tf.summary.scalar('MSE', mse)\n",
    "file_writer = tf.summary.FileWriter(logdir, tf.get_default_graph())\n",
    "\n",
    "init = tf.global_variables_initializer()\n",
    "saver = tf.train.Saver()\n",
    "\n",
    "with tf.Session() as sess:\n",
    "    sess.run(init)\n",
    "    \n",
    "    for epoch in range(n_epochs): \n",
    "        if epoch % 100 == 0:\n",
    "            print('Epoch', epoch, 'MSE =', mse.eval())\n",
    "        if epoch % 10 == 0:\n",
    "            summary_str = mse_summary.eval()\n",
    "            step = epoch \n",
    "            file_writer.add_summary(summary_str, step)\n",
    "        sess.run(training_op)\n",
    "    best_theta = theta.eval()\n",
    "    save_path = saver.save(sess, '/tmp/my_model.ckpt')\n",
    "    \n",
    "    print(best_theta)\n",
    "    file_writer.close()"
   ]
  },
  {
   "cell_type": "code",
   "execution_count": null,
   "metadata": {
    "collapsed": true
   },
   "outputs": [],
   "source": []
  }
 ],
 "metadata": {
  "kernelspec": {
   "display_name": "Python 3",
   "language": "python",
   "name": "python3"
  },
  "language_info": {
   "codemirror_mode": {
    "name": "ipython",
    "version": 3
   },
   "file_extension": ".py",
   "mimetype": "text/x-python",
   "name": "python",
   "nbconvert_exporter": "python",
   "pygments_lexer": "ipython3",
   "version": "3.6.1"
  }
 },
 "nbformat": 4,
 "nbformat_minor": 2
}
